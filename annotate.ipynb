{
 "cells": [
  {
   "cell_type": "markdown",
   "metadata": {},
   "source": [
    "# Run Annotation App\n",
    "\n",
    "Define input data filepath and starting index"
   ]
  },
  {
   "cell_type": "code",
   "execution_count": 1,
   "metadata": {},
   "outputs": [
    {
     "name": "stdout",
     "output_type": "stream",
     "text": [
      "Requirement already satisfied: PyQt5 in ./env/lib/python3.13/site-packages (5.15.11)\n",
      "Requirement already satisfied: pandas in ./env/lib/python3.13/site-packages (2.2.3)\n",
      "Requirement already satisfied: sounddevice in ./env/lib/python3.13/site-packages (0.5.1)\n",
      "Requirement already satisfied: soundfile in ./env/lib/python3.13/site-packages (0.13.1)\n",
      "Requirement already satisfied: PyQt5-sip<13,>=12.15 in ./env/lib/python3.13/site-packages (from PyQt5) (12.17.0)\n",
      "Requirement already satisfied: PyQt5-Qt5<5.16.0,>=5.15.2 in ./env/lib/python3.13/site-packages (from PyQt5) (5.15.16)\n",
      "Requirement already satisfied: numpy>=1.26.0 in ./env/lib/python3.13/site-packages (from pandas) (2.2.4)\n",
      "Requirement already satisfied: python-dateutil>=2.8.2 in ./env/lib/python3.13/site-packages (from pandas) (2.9.0.post0)\n",
      "Requirement already satisfied: pytz>=2020.1 in ./env/lib/python3.13/site-packages (from pandas) (2025.1)\n",
      "Requirement already satisfied: tzdata>=2022.7 in ./env/lib/python3.13/site-packages (from pandas) (2025.1)\n",
      "Requirement already satisfied: CFFI>=1.0 in ./env/lib/python3.13/site-packages (from sounddevice) (1.17.1)\n",
      "Requirement already satisfied: pycparser in ./env/lib/python3.13/site-packages (from CFFI>=1.0->sounddevice) (2.22)\n",
      "Requirement already satisfied: six>=1.5 in ./env/lib/python3.13/site-packages (from python-dateutil>=2.8.2->pandas) (1.17.0)\n",
      "\n",
      "\u001b[1m[\u001b[0m\u001b[34;49mnotice\u001b[0m\u001b[1;39;49m]\u001b[0m\u001b[39;49m A new release of pip is available: \u001b[0m\u001b[31;49m24.3.1\u001b[0m\u001b[39;49m -> \u001b[0m\u001b[32;49m25.0.1\u001b[0m\n",
      "\u001b[1m[\u001b[0m\u001b[34;49mnotice\u001b[0m\u001b[1;39;49m]\u001b[0m\u001b[39;49m To update, run: \u001b[0m\u001b[32;49mpip install --upgrade pip\u001b[0m\n"
     ]
    }
   ],
   "source": [
    "!pip install PyQt5 pandas sounddevice soundfile"
   ]
  },
  {
   "cell_type": "code",
   "execution_count": 2,
   "metadata": {},
   "outputs": [
    {
     "name": "stdout",
     "output_type": "stream",
     "text": [
      "2025-03-24 13:03:12.678 Python[74848:93548368] +[IMKClient subclass]: chose IMKClient_Modern\n",
      "2025-03-24 13:03:12.678 Python[74848:93548368] +[IMKInputSession subclass]: chose IMKInputSession_Modern\n"
     ]
    }
   ],
   "source": [
    "!python3 annotate_app.py N_1000_filtered_train_data.csv 0"
   ]
  },
  {
   "cell_type": "code",
   "execution_count": 3,
   "metadata": {},
   "outputs": [],
   "source": [
    "import pandas as pd\n",
    "import numpy as np"
   ]
  },
  {
   "cell_type": "markdown",
   "metadata": {},
   "source": [
    "# Join Training Set Data and Annotations"
   ]
  },
  {
   "cell_type": "markdown",
   "metadata": {},
   "source": [
    "Merge the new annotations with the existing database, new annotation are under the \"question type\" column"
   ]
  },
  {
   "cell_type": "code",
   "execution_count": 34,
   "metadata": {},
   "outputs": [
    {
     "name": "stdout",
     "output_type": "stream",
     "text": [
      "    index                                               text  \\\n",
      "0       0                             o kilo hotel uniform u   \n",
      "1       1  hotel charlie papa frequency change approved b...   \n",
      "2       2               direct padka request three five zero   \n",
      "3       3        praha good morning lufthansa two five three   \n",
      "4       4                                   sa six mike alfa   \n",
      "5       5  csa three kilo foxtrot change proceed direct t...   \n",
      "6       6  csa four two zero praha radar contact climb to...   \n",
      "7       7  hotel hotel xray vacacated at zero and to the ...   \n",
      "8       8  proceed direct baltu oscar kilo kilo uniform n...   \n",
      "9       9        high speed approved csa seven bravo juliett   \n",
      "10     10  csa nine two six roger line up runway three on...   \n",
      "11     11                        affirm cleared ils approach   \n",
      "12     12              one zero zero wizz air four xray zulu   \n",
      "13     13         zero to holesova requested level one eight   \n",
      "14     15                       the ils for runway three one   \n",
      "\n",
      "                  audio_path  word_count  potential_question  \\\n",
      "0    audio_files/audio_0.wav           5               False   \n",
      "1    audio_files/audio_1.wav           8               False   \n",
      "2    audio_files/audio_2.wav           6                True   \n",
      "3    audio_files/audio_3.wav           7               False   \n",
      "4    audio_files/audio_4.wav           4               False   \n",
      "5    audio_files/audio_5.wav           9               False   \n",
      "6    audio_files/audio_6.wav          14               False   \n",
      "7    audio_files/audio_7.wav          22               False   \n",
      "8    audio_files/audio_8.wav           8               False   \n",
      "9    audio_files/audio_9.wav           7               False   \n",
      "10  audio_files/audio_10.wav          20               False   \n",
      "11  audio_files/audio_11.wav           4               False   \n",
      "12  audio_files/audio_12.wav           8               False   \n",
      "13  audio_files/audio_13.wav           7                True   \n",
      "14  audio_files/audio_15.wav           6               False   \n",
      "\n",
      "    potential_statement label question_type  \n",
      "0                  True    nq            nq  \n",
      "1                  True   imp           imp  \n",
      "2                 False    nq            nq  \n",
      "3                  True    nq            nq  \n",
      "4                  True   NaN           NaN  \n",
      "5                  True    yn            yn  \n",
      "6                  True   imp           imp  \n",
      "7                  True   imp           imp  \n",
      "8                  True   imp           imp  \n",
      "9                  True    wh            wh  \n",
      "10                 True    yn            yn  \n",
      "11                 True   NaN           NaN  \n",
      "12                 True   NaN           NaN  \n",
      "13                False   NaN           NaN  \n",
      "14                 True   NaN           NaN  \n"
     ]
    }
   ],
   "source": [
    "# File path to the dataset\n",
    "data_path = \"filtered_train_data_copy.csv\"\n",
    "annotations_path = \"atc_audio_annotations.csv\"\n",
    "\n",
    "\n",
    "# Load original dataset  \n",
    "df_data = pd.read_csv(data_path)  \n",
    "\n",
    "# Load annotations (assuming it has 'audio_path' and 'new_text' columns)  \n",
    "df_annotations = pd.read_csv(annotations_path)  \n",
    "\n",
    "# Merge while keeping all original rows  \n",
    "df_merged = df_data.merge(df_annotations, on=\"audio_path\", how=\"left\")  \n",
    " \n",
    "\n",
    "print(df_merged.head(15))"
   ]
  },
  {
   "cell_type": "markdown",
   "metadata": {},
   "source": [
    "If you are satisfied with the new labels, update label column and drop \"question type\""
   ]
  },
  {
   "cell_type": "code",
   "execution_count": 35,
   "metadata": {},
   "outputs": [
    {
     "name": "stdout",
     "output_type": "stream",
     "text": [
      "    index                                               text  \\\n",
      "0       0                             o kilo hotel uniform u   \n",
      "1       1  hotel charlie papa frequency change approved b...   \n",
      "2       2               direct padka request three five zero   \n",
      "3       3        praha good morning lufthansa two five three   \n",
      "4       4                                   sa six mike alfa   \n",
      "5       5  csa three kilo foxtrot change proceed direct t...   \n",
      "6       6  csa four two zero praha radar contact climb to...   \n",
      "7       7  hotel hotel xray vacacated at zero and to the ...   \n",
      "8       8  proceed direct baltu oscar kilo kilo uniform n...   \n",
      "9       9        high speed approved csa seven bravo juliett   \n",
      "10     10  csa nine two six roger line up runway three on...   \n",
      "11     11                        affirm cleared ils approach   \n",
      "12     12              one zero zero wizz air four xray zulu   \n",
      "13     13         zero to holesova requested level one eight   \n",
      "14     15                       the ils for runway three one   \n",
      "\n",
      "                  audio_path  word_count  potential_question  \\\n",
      "0    audio_files/audio_0.wav           5               False   \n",
      "1    audio_files/audio_1.wav           8               False   \n",
      "2    audio_files/audio_2.wav           6                True   \n",
      "3    audio_files/audio_3.wav           7               False   \n",
      "4    audio_files/audio_4.wav           4               False   \n",
      "5    audio_files/audio_5.wav           9               False   \n",
      "6    audio_files/audio_6.wav          14               False   \n",
      "7    audio_files/audio_7.wav          22               False   \n",
      "8    audio_files/audio_8.wav           8               False   \n",
      "9    audio_files/audio_9.wav           7               False   \n",
      "10  audio_files/audio_10.wav          20               False   \n",
      "11  audio_files/audio_11.wav           4               False   \n",
      "12  audio_files/audio_12.wav           8               False   \n",
      "13  audio_files/audio_13.wav           7                True   \n",
      "14  audio_files/audio_15.wav           6               False   \n",
      "\n",
      "    potential_statement label  \n",
      "0                  True    nq  \n",
      "1                  True   imp  \n",
      "2                 False    nq  \n",
      "3                  True    nq  \n",
      "4                  True   NaN  \n",
      "5                  True    yn  \n",
      "6                  True   imp  \n",
      "7                  True   imp  \n",
      "8                  True   imp  \n",
      "9                  True    wh  \n",
      "10                 True    yn  \n",
      "11                 True   NaN  \n",
      "12                 True   NaN  \n",
      "13                False   NaN  \n",
      "14                 True   NaN  \n"
     ]
    }
   ],
   "source": [
    "df_merged['label'] = df_merged['question_type']\n",
    "df_merged.drop(['question_type'], axis=1, inplace=True)\n",
    "\n",
    "print(df_merged.head(15))"
   ]
  },
  {
   "cell_type": "code",
   "execution_count": 36,
   "metadata": {},
   "outputs": [],
   "source": [
    "# Save to new file\n",
    "# Define output filepath (default is to overwrite original)\n",
    "\n",
    "output_path = data_path\n",
    "\n",
    "df_merged.to_csv(output_path, index=False)"
   ]
  }
 ],
 "metadata": {
  "kernelspec": {
   "display_name": "env",
   "language": "python",
   "name": "python3"
  },
  "language_info": {
   "codemirror_mode": {
    "name": "ipython",
    "version": 3
   },
   "file_extension": ".py",
   "mimetype": "text/x-python",
   "name": "python",
   "nbconvert_exporter": "python",
   "pygments_lexer": "ipython3",
   "version": "3.13.1"
  }
 },
 "nbformat": 4,
 "nbformat_minor": 2
}
