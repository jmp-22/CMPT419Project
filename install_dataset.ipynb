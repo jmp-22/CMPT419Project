{
 "cells": [
  {
   "cell_type": "markdown",
   "metadata": {},
   "source": [
    "# Install Dataset\n",
    "\n",
    "This notebook installs a local copy of the ATC dataset in your project folder. Audio is available from huggingface, which requires a huggingface account. \n",
    "\n",
    "A CSV file is generated containing the paths to the audio clips and the text transcriptions."
   ]
  },
  {
   "cell_type": "code",
   "execution_count": 4,
   "metadata": {},
   "outputs": [
    {
     "name": "stdout",
     "output_type": "stream",
     "text": [
      "Requirement already satisfied: numpy in ./env/lib/python3.13/site-packages (from -r requirements.txt (line 1)) (2.2.4)\n",
      "Requirement already satisfied: pandas in ./env/lib/python3.13/site-packages (from -r requirements.txt (line 2)) (2.2.3)\n",
      "Requirement already satisfied: huggingface_hub in ./env/lib/python3.13/site-packages (from -r requirements.txt (line 3)) (0.30.2)\n",
      "Requirement already satisfied: datasets in ./env/lib/python3.13/site-packages (from -r requirements.txt (line 4)) (3.5.0)\n",
      "Requirement already satisfied: scipy in ./env/lib/python3.13/site-packages (from -r requirements.txt (line 5)) (1.15.2)\n",
      "Requirement already satisfied: PyQt5 in ./env/lib/python3.13/site-packages (from -r requirements.txt (line 6)) (5.15.11)\n",
      "Requirement already satisfied: sounddevice in ./env/lib/python3.13/site-packages (from -r requirements.txt (line 7)) (0.5.1)\n",
      "Requirement already satisfied: soundfile in ./env/lib/python3.13/site-packages (from -r requirements.txt (line 8)) (0.13.1)\n",
      "Requirement already satisfied: librosa in ./env/lib/python3.13/site-packages (from -r requirements.txt (line 9)) (0.11.0)\n",
      "Requirement already satisfied: matplotlib in ./env/lib/python3.13/site-packages (from -r requirements.txt (line 10)) (3.10.1)\n",
      "Requirement already satisfied: scikit-learn in ./env/lib/python3.13/site-packages (from -r requirements.txt (line 11)) (1.6.1)\n",
      "Collecting seaborn (from -r requirements.txt (line 12))\n",
      "  Using cached seaborn-0.13.2-py3-none-any.whl.metadata (5.4 kB)\n",
      "Requirement already satisfied: python-dateutil>=2.8.2 in ./env/lib/python3.13/site-packages (from pandas->-r requirements.txt (line 2)) (2.9.0.post0)\n",
      "Requirement already satisfied: pytz>=2020.1 in ./env/lib/python3.13/site-packages (from pandas->-r requirements.txt (line 2)) (2025.2)\n",
      "Requirement already satisfied: tzdata>=2022.7 in ./env/lib/python3.13/site-packages (from pandas->-r requirements.txt (line 2)) (2025.2)\n",
      "Requirement already satisfied: filelock in ./env/lib/python3.13/site-packages (from huggingface_hub->-r requirements.txt (line 3)) (3.18.0)\n",
      "Requirement already satisfied: fsspec>=2023.5.0 in ./env/lib/python3.13/site-packages (from huggingface_hub->-r requirements.txt (line 3)) (2024.12.0)\n",
      "Requirement already satisfied: packaging>=20.9 in ./env/lib/python3.13/site-packages (from huggingface_hub->-r requirements.txt (line 3)) (24.2)\n",
      "Requirement already satisfied: pyyaml>=5.1 in ./env/lib/python3.13/site-packages (from huggingface_hub->-r requirements.txt (line 3)) (6.0.2)\n",
      "Requirement already satisfied: requests in ./env/lib/python3.13/site-packages (from huggingface_hub->-r requirements.txt (line 3)) (2.32.3)\n",
      "Requirement already satisfied: tqdm>=4.42.1 in ./env/lib/python3.13/site-packages (from huggingface_hub->-r requirements.txt (line 3)) (4.67.1)\n",
      "Requirement already satisfied: typing-extensions>=3.7.4.3 in ./env/lib/python3.13/site-packages (from huggingface_hub->-r requirements.txt (line 3)) (4.13.1)\n",
      "Requirement already satisfied: pyarrow>=15.0.0 in ./env/lib/python3.13/site-packages (from datasets->-r requirements.txt (line 4)) (19.0.1)\n",
      "Requirement already satisfied: dill<0.3.9,>=0.3.0 in ./env/lib/python3.13/site-packages (from datasets->-r requirements.txt (line 4)) (0.3.8)\n",
      "Requirement already satisfied: xxhash in ./env/lib/python3.13/site-packages (from datasets->-r requirements.txt (line 4)) (3.5.0)\n",
      "Requirement already satisfied: multiprocess<0.70.17 in ./env/lib/python3.13/site-packages (from datasets->-r requirements.txt (line 4)) (0.70.16)\n",
      "Requirement already satisfied: aiohttp in ./env/lib/python3.13/site-packages (from datasets->-r requirements.txt (line 4)) (3.11.16)\n",
      "Requirement already satisfied: PyQt5-sip<13,>=12.15 in ./env/lib/python3.13/site-packages (from PyQt5->-r requirements.txt (line 6)) (12.17.0)\n",
      "Requirement already satisfied: PyQt5-Qt5<5.16.0,>=5.15.2 in ./env/lib/python3.13/site-packages (from PyQt5->-r requirements.txt (line 6)) (5.15.16)\n",
      "Requirement already satisfied: CFFI>=1.0 in ./env/lib/python3.13/site-packages (from sounddevice->-r requirements.txt (line 7)) (1.17.1)\n",
      "Requirement already satisfied: audioread>=2.1.9 in ./env/lib/python3.13/site-packages (from librosa->-r requirements.txt (line 9)) (3.0.1)\n",
      "Requirement already satisfied: numba>=0.51.0 in ./env/lib/python3.13/site-packages (from librosa->-r requirements.txt (line 9)) (0.61.2)\n",
      "Requirement already satisfied: joblib>=1.0 in ./env/lib/python3.13/site-packages (from librosa->-r requirements.txt (line 9)) (1.4.2)\n",
      "Requirement already satisfied: decorator>=4.3.0 in ./env/lib/python3.13/site-packages (from librosa->-r requirements.txt (line 9)) (5.2.1)\n",
      "Requirement already satisfied: pooch>=1.1 in ./env/lib/python3.13/site-packages (from librosa->-r requirements.txt (line 9)) (1.8.2)\n",
      "Requirement already satisfied: soxr>=0.3.2 in ./env/lib/python3.13/site-packages (from librosa->-r requirements.txt (line 9)) (0.5.0.post1)\n",
      "Requirement already satisfied: lazy_loader>=0.1 in ./env/lib/python3.13/site-packages (from librosa->-r requirements.txt (line 9)) (0.4)\n",
      "Requirement already satisfied: msgpack>=1.0 in ./env/lib/python3.13/site-packages (from librosa->-r requirements.txt (line 9)) (1.1.0)\n",
      "Requirement already satisfied: standard-aifc in ./env/lib/python3.13/site-packages (from librosa->-r requirements.txt (line 9)) (3.13.0)\n",
      "Requirement already satisfied: standard-sunau in ./env/lib/python3.13/site-packages (from librosa->-r requirements.txt (line 9)) (3.13.0)\n",
      "Requirement already satisfied: contourpy>=1.0.1 in ./env/lib/python3.13/site-packages (from matplotlib->-r requirements.txt (line 10)) (1.3.1)\n",
      "Requirement already satisfied: cycler>=0.10 in ./env/lib/python3.13/site-packages (from matplotlib->-r requirements.txt (line 10)) (0.12.1)\n",
      "Requirement already satisfied: fonttools>=4.22.0 in ./env/lib/python3.13/site-packages (from matplotlib->-r requirements.txt (line 10)) (4.57.0)\n",
      "Requirement already satisfied: kiwisolver>=1.3.1 in ./env/lib/python3.13/site-packages (from matplotlib->-r requirements.txt (line 10)) (1.4.8)\n",
      "Requirement already satisfied: pillow>=8 in ./env/lib/python3.13/site-packages (from matplotlib->-r requirements.txt (line 10)) (11.1.0)\n",
      "Requirement already satisfied: pyparsing>=2.3.1 in ./env/lib/python3.13/site-packages (from matplotlib->-r requirements.txt (line 10)) (3.2.3)\n",
      "Requirement already satisfied: threadpoolctl>=3.1.0 in ./env/lib/python3.13/site-packages (from scikit-learn->-r requirements.txt (line 11)) (3.6.0)\n",
      "Requirement already satisfied: pycparser in ./env/lib/python3.13/site-packages (from CFFI>=1.0->sounddevice->-r requirements.txt (line 7)) (2.22)\n",
      "Requirement already satisfied: aiohappyeyeballs>=2.3.0 in ./env/lib/python3.13/site-packages (from aiohttp->datasets->-r requirements.txt (line 4)) (2.6.1)\n",
      "Requirement already satisfied: aiosignal>=1.1.2 in ./env/lib/python3.13/site-packages (from aiohttp->datasets->-r requirements.txt (line 4)) (1.3.2)\n",
      "Requirement already satisfied: attrs>=17.3.0 in ./env/lib/python3.13/site-packages (from aiohttp->datasets->-r requirements.txt (line 4)) (25.3.0)\n",
      "Requirement already satisfied: frozenlist>=1.1.1 in ./env/lib/python3.13/site-packages (from aiohttp->datasets->-r requirements.txt (line 4)) (1.5.0)\n",
      "Requirement already satisfied: multidict<7.0,>=4.5 in ./env/lib/python3.13/site-packages (from aiohttp->datasets->-r requirements.txt (line 4)) (6.4.2)\n",
      "Requirement already satisfied: propcache>=0.2.0 in ./env/lib/python3.13/site-packages (from aiohttp->datasets->-r requirements.txt (line 4)) (0.3.1)\n",
      "Requirement already satisfied: yarl<2.0,>=1.17.0 in ./env/lib/python3.13/site-packages (from aiohttp->datasets->-r requirements.txt (line 4)) (1.19.0)\n",
      "Requirement already satisfied: llvmlite<0.45,>=0.44.0dev0 in ./env/lib/python3.13/site-packages (from numba>=0.51.0->librosa->-r requirements.txt (line 9)) (0.44.0)\n",
      "Requirement already satisfied: platformdirs>=2.5.0 in ./env/lib/python3.13/site-packages (from pooch>=1.1->librosa->-r requirements.txt (line 9)) (4.3.7)\n",
      "Requirement already satisfied: six>=1.5 in ./env/lib/python3.13/site-packages (from python-dateutil>=2.8.2->pandas->-r requirements.txt (line 2)) (1.17.0)\n",
      "Requirement already satisfied: charset-normalizer<4,>=2 in ./env/lib/python3.13/site-packages (from requests->huggingface_hub->-r requirements.txt (line 3)) (3.4.1)\n",
      "Requirement already satisfied: idna<4,>=2.5 in ./env/lib/python3.13/site-packages (from requests->huggingface_hub->-r requirements.txt (line 3)) (3.10)\n",
      "Requirement already satisfied: urllib3<3,>=1.21.1 in ./env/lib/python3.13/site-packages (from requests->huggingface_hub->-r requirements.txt (line 3)) (2.3.0)\n",
      "Requirement already satisfied: certifi>=2017.4.17 in ./env/lib/python3.13/site-packages (from requests->huggingface_hub->-r requirements.txt (line 3)) (2025.1.31)\n",
      "Requirement already satisfied: standard-chunk in ./env/lib/python3.13/site-packages (from standard-aifc->librosa->-r requirements.txt (line 9)) (3.13.0)\n",
      "Requirement already satisfied: audioop-lts in ./env/lib/python3.13/site-packages (from standard-aifc->librosa->-r requirements.txt (line 9)) (0.2.1)\n",
      "Using cached seaborn-0.13.2-py3-none-any.whl (294 kB)\n",
      "Installing collected packages: seaborn\n",
      "Successfully installed seaborn-0.13.2\n",
      "\n",
      "\u001b[1m[\u001b[0m\u001b[34;49mnotice\u001b[0m\u001b[1;39;49m]\u001b[0m\u001b[39;49m A new release of pip is available: \u001b[0m\u001b[31;49m24.3.1\u001b[0m\u001b[39;49m -> \u001b[0m\u001b[32;49m25.0.1\u001b[0m\n",
      "\u001b[1m[\u001b[0m\u001b[34;49mnotice\u001b[0m\u001b[1;39;49m]\u001b[0m\u001b[39;49m To update, run: \u001b[0m\u001b[32;49mpip install --upgrade pip\u001b[0m\n"
     ]
    }
   ],
   "source": [
    "# recommend running this in a virtual environment\n",
    "\n",
    "! pip install -r requirements.txt\n"
   ]
  },
  {
   "cell_type": "markdown",
   "metadata": {},
   "source": [
    "Import Dataset"
   ]
  },
  {
   "cell_type": "code",
   "execution_count": 2,
   "metadata": {},
   "outputs": [],
   "source": [
    "from huggingface_hub import login\n",
    "from datasets import load_dataset\n",
    "\n",
    "import os\n",
    "import numpy as np\n",
    "import pandas as pd\n",
    "import scipy.io.wavfile as wav"
   ]
  },
  {
   "cell_type": "code",
   "execution_count": null,
   "metadata": {},
   "outputs": [
    {
     "name": "stdout",
     "output_type": "stream",
     "text": [
      "jmp22\n"
     ]
    }
   ],
   "source": [
    "# get a token from huggingface\n",
    "# instructions here: https://huggingface.co/docs/huggingface_hub/quick-start\n",
    "token = None # replace with your token\n",
    "login(token)\n",
    "! huggingface-cli whoami"
   ]
  },
  {
   "cell_type": "code",
   "execution_count": 13,
   "metadata": {},
   "outputs": [
    {
     "name": "stderr",
     "output_type": "stream",
     "text": [
      "Generating train split: 100%|██████████| 11868/11868 [00:00<00:00, 17394.62 examples/s]\n",
      "Generating test split: 100%|██████████| 2927/2927 [00:00<00:00, 17162.14 examples/s]\n"
     ]
    }
   ],
   "source": [
    "atc_dataset = load_dataset(\"jacktol/atc-dataset\")"
   ]
  },
  {
   "cell_type": "code",
   "execution_count": null,
   "metadata": {},
   "outputs": [
    {
     "name": "stdout",
     "output_type": "stream",
     "text": [
      "DatasetDict({\n",
      "    train: Dataset({\n",
      "        features: ['audio', 'text'],\n",
      "        num_rows: 11868\n",
      "    })\n",
      "    test: Dataset({\n",
      "        features: ['audio', 'text'],\n",
      "        num_rows: 2927\n",
      "    })\n",
      "})\n"
     ]
    }
   ],
   "source": [
    "print(atc_dataset)\n",
    "\n",
    "df_train = atc_dataset['train'].to_pandas()\n",
    "df_val = atc_dataset['test'].to_pandas()\n",
    "\n",
    "# should have 11868 samples in train and 2927 in val\n"
   ]
  },
  {
   "cell_type": "code",
   "execution_count": null,
   "metadata": {},
   "outputs": [],
   "source": [
    "# Save audio files to disk\n",
    "\n",
    "# Create a directory to save training audio files\n",
    "os.makedirs(\"audio_files\", exist_ok=True)\n",
    "\n",
    "# Function to save audio bytes as a .wav file\n",
    "def save_audio(idx, audio_data):\n",
    "    file_path = f\"audio_files/audio_{idx}.wav\"\n",
    "    with open(file_path, \"wb\") as f:\n",
    "        f.write(audio_data[\"bytes\"])  # Save raw bytes to file\n",
    "    return file_path\n",
    "\n",
    "df_train[\"audio_path\"] = df_train[\"audio\"].apply(lambda x: save_audio(df_train.index[df_train[\"audio\"] == x][0], x))\n",
    "\n",
    "\n"
   ]
  },
  {
   "cell_type": "code",
   "execution_count": 43,
   "metadata": {},
   "outputs": [],
   "source": [
    "# Create a directory to save validation audio files\n",
    "os.makedirs(\"val_audio_files\", exist_ok=True)\n",
    "\n",
    "# Function to save audio bytes as a .wav file\n",
    "def save_audio(idx, audio_data):\n",
    "    file_path = f\"val_audio_files/audio_{idx}.wav\"\n",
    "    with open(file_path, \"wb\") as f:\n",
    "        f.write(audio_data[\"bytes\"])  # Save raw bytes to file\n",
    "    return file_path\n",
    "\n",
    "df_val[\"audio_path\"] = df_val[\"audio\"].apply(lambda x: save_audio(df_val.index[df_val[\"audio\"] == x][0], x))"
   ]
  },
  {
   "cell_type": "code",
   "execution_count": 54,
   "metadata": {},
   "outputs": [
    {
     "name": "stdout",
     "output_type": "stream",
     "text": [
      "***** Training Data *****\n",
      "                                               audio  \\\n",
      "0  {'bytes': b'RIFF\\xe4\\xb7\\x00\\x00WAVEfmt \\x10\\x...   \n",
      "1  {'bytes': b'RIFF$w\\x01\\x00WAVEfmt \\x10\\x00\\x00...   \n",
      "2  {'bytes': b'RIFF\\xa4u\\x00\\x00WAVEfmt \\x10\\x00\\...   \n",
      "3  {'bytes': b'RIFF\\xe4\\x8a\\x00\\x00WAVEfmt \\x10\\x...   \n",
      "4  {'bytes': b'RIFF$F\\x00\\x00WAVEfmt \\x10\\x00\\x00...   \n",
      "\n",
      "                                                text  \n",
      "0                             o kilo hotel uniform u  \n",
      "1  hotel charlie papa frequency change approved b...  \n",
      "2               direct padka request three five zero  \n",
      "3        praha good morning lufthansa two five three  \n",
      "4                                   sa six mike alfa  \n",
      "***** Validation Data *****\n",
      "                                               audio  \\\n",
      "0  {'bytes': b'RIFF\\x84\\xc2\\x00\\x00WAVEfmt \\x10\\x...   \n",
      "1  {'bytes': b'RIFF\\xa4\\xb1\\x00\\x00WAVEfmt \\x10\\x...   \n",
      "2  {'bytes': b'RIFFd\\xec\\x00\\x00WAVEfmt \\x10\\x00\\...   \n",
      "3  {'bytes': b'RIFF\\xc4\\xaa\\x00\\x00WAVEfmt \\x10\\x...   \n",
      "4  {'bytes': b'RIFFD\\xe3\\x01\\x00WAVEfmt \\x10\\x00\\...   \n",
      "\n",
      "                                                text  \n",
      "0  german wing seven papa ruzyne tower hello agai...  \n",
      "1  climb flight level one six zero emirates one f...  \n",
      "2  singapoore three two five request flight level...  \n",
      "3               to actualy it will be runway two two  \n",
      "4  praha radar oscar kilo k uniform november dire...  \n"
     ]
    }
   ],
   "source": [
    "print(\"***** Training Data *****\")\n",
    "print(df_train.head())\n",
    "print(\"***** Validation Data *****\")\n",
    "print(df_val.head())"
   ]
  },
  {
   "cell_type": "code",
   "execution_count": 49,
   "metadata": {},
   "outputs": [],
   "source": [
    "# Save the dataframes to .csv files\n",
    "# Index corresponds to the index of the audio file\n",
    "df_train = df_train.drop(columns=[\"audio\"])\n",
    "df_train.to_csv(\"train_data.csv\", index=True)\n",
    "df_val = df_val.drop(columns=[\"audio\"])\n",
    "df_val.to_csv(\"val_data.csv\", index=True)"
   ]
  }
 ],
 "metadata": {
  "kernelspec": {
   "display_name": "env",
   "language": "python",
   "name": "python3"
  },
  "language_info": {
   "codemirror_mode": {
    "name": "ipython",
    "version": 3
   },
   "file_extension": ".py",
   "mimetype": "text/x-python",
   "name": "python",
   "nbconvert_exporter": "python",
   "pygments_lexer": "ipython3",
   "version": "3.13.1"
  }
 },
 "nbformat": 4,
 "nbformat_minor": 2
}
