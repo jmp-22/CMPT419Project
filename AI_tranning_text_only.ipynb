{
 "cells": [
  {
   "cell_type": "markdown",
   "id": "b1b2a567",
   "metadata": {},
   "source": [
    "# AI model trainning: can a machine differnciate question/non-question with only textual context?\n",
    "1. Load the dataset"
   ]
  },
  {
   "cell_type": "code",
   "execution_count": 1,
   "id": "3fffdc76",
   "metadata": {},
   "outputs": [
    {
     "name": "stdout",
     "output_type": "stream",
     "text": [
      "binary_label\n",
      "0    295\n",
      "1    295\n",
      "Name: count, dtype: int64\n"
     ]
    }
   ],
   "source": [
    "import pandas as pd\n",
    "import ast\n",
    "\n",
    "# Load full dataset\n",
    "df = pd.read_csv(\"N_1000_filtered_train_data_with_features.csv\")\n",
    "\n",
    "# Define labels that are questions\n",
    "question_labels = {'yn', 'wh', 'imp'}\n",
    "\n",
    "# Sample with all columns preserved\n",
    "yn_df = df[df['label'] == 'yn']\n",
    "wh_df = df[df['label'] == 'wh'].sample(n=min(100, len(df[df['label'] == 'wh'])), random_state=42)\n",
    "imp_df = df[df['label'] == 'imp'].sample(n=min(100, len(df[df['label'] == 'imp'])), random_state=42)\n",
    "nq_df = df[df['label'] == 'nq'].sample(n=295, random_state=42)\n",
    "\n",
    "# Combine them\n",
    "balanced_df = pd.concat([yn_df, wh_df, imp_df, nq_df])\n",
    "balanced_df = balanced_df.sample(frac=1, random_state=42).reset_index(drop=True)\n",
    "\n",
    "# Assign binary label: question (1) vs. not-question (0)\n",
    "balanced_df['binary_label'] = balanced_df['label'].apply(lambda x: 1 if x in question_labels else 0)\n",
    "\n",
    "# Parse MFCCs\n",
    "balanced_df['mfcc_means'] = balanced_df['mfcc_means'].apply(ast.literal_eval)\n",
    "\n",
    "# Check counts\n",
    "print(balanced_df['binary_label'].value_counts())"
   ]
  },
  {
   "cell_type": "markdown",
   "id": "34e4c79d",
   "metadata": {},
   "source": [
    "2. Organize all data to prepare for AI training (only text)"
   ]
  },
  {
   "cell_type": "code",
   "execution_count": 2,
   "id": "1f3e3357",
   "metadata": {},
   "outputs": [],
   "source": [
    "import numpy as np\n",
    "from sklearn.feature_extraction.text import TfidfVectorizer\n",
    "from sklearn.model_selection import train_test_split\n",
    "from sklearn.linear_model import LogisticRegression\n",
    "from sklearn.metrics import classification_report, confusion_matrix\n",
    "import matplotlib.pyplot as plt\n",
    "import seaborn as sns\n",
    "\n",
    "# 1. Vectorize text\n",
    "vectorizer = TfidfVectorizer()\n",
    "text_features = vectorizer.fit_transform(balanced_df['text'])\n",
    "\n",
    "# 2. Use text features directly as X\n",
    "X = text_features\n",
    "\n",
    "# 3. Labels\n",
    "y = balanced_df['binary_label']"
   ]
  },
  {
   "cell_type": "markdown",
   "id": "df73ded0",
   "metadata": {},
   "source": [
    "3.1 Model training (Logistical regression)"
   ]
  },
  {
   "cell_type": "code",
   "execution_count": 21,
   "id": "7a9556b7",
   "metadata": {},
   "outputs": [
    {
     "name": "stdout",
     "output_type": "stream",
     "text": [
      "Classification Report:\n",
      "               precision    recall  f1-score   support\n",
      "\n",
      "           0       0.91      0.81      0.86        59\n",
      "           1       0.83      0.92      0.87        59\n",
      "\n",
      "    accuracy                           0.86       118\n",
      "   macro avg       0.87      0.86      0.86       118\n",
      "weighted avg       0.87      0.86      0.86       118\n",
      "\n",
      "Confusion Matrix:\n",
      " [[48 11]\n",
      " [ 5 54]]\n"
     ]
    },
    {
     "data": {
      "image/png": "[encoded data removed]",
      "text/plain": [
       "<Figure size 800x600 with 2 Axes>"
      ]
     },
     "metadata": {},
     "output_type": "display_data"
    }
   ],
   "source": [
    "# 4. Train-test split\n",
    "X_train, X_test, y_train, y_test = train_test_split(\n",
    "    X, y, test_size=0.2, stratify=y\n",
    ")\n",
    "\n",
    "# 5. Train the model using logistic regression\n",
    "clf = LogisticRegression(max_iter=5000)\n",
    "clf.fit(X_train, y_train)\n",
    "\n",
    "# 6. Predict and evaluate\n",
    "y_pred = clf.predict(X_test)\n",
    "print(\"Classification Report:\\n\", classification_report(y_test, y_pred))\n",
    "print(\"Confusion Matrix:\\n\", confusion_matrix(y_test, y_pred))\n",
    "\n",
    "# 7. Visualize the confusion matrix with seaborn\n",
    "cm = confusion_matrix(y_test, y_pred)\n",
    "cm_norm = cm.astype('float') / cm.sum(axis=1)[:, np.newaxis]\n",
    "\n",
    "plt.figure(figsize=(8, 6))\n",
    "sns.heatmap(\n",
    "    cm_norm,               # Normalized confusion matrix\n",
    "    annot=cm,              # Show raw counts in the boxes\n",
    "    fmt='d',               # Integer format for counts\n",
    "    cmap='Blues',          # Colormap\n",
    "    xticklabels=clf.classes_,\n",
    "    yticklabels=clf.classes_\n",
    ")\n",
    "plt.title(\"Confusion Matrix (normalized)\")\n",
    "plt.ylabel(\"True label\")\n",
    "plt.xlabel(\"Predicted label\")\n",
    "plt.show()"
   ]
  }
 ],
 "metadata": {
  "kernelspec": {
   "display_name": ".venv",
   "language": "python",
   "name": "python3"
  },
  "language_info": {
   "codemirror_mode": {
    "name": "ipython",
    "version": 3
   },
   "file_extension": ".py",
   "mimetype": "text/x-python",
   "name": "python",
   "nbconvert_exporter": "python",
   "pygments_lexer": "ipython3",
   "version": "3.13.2"
  }
 },
 "nbformat": 4,
 "nbformat_minor": 5
}
