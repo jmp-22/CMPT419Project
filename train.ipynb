{
 "cells": [
  {
   "cell_type": "markdown",
   "metadata": {},
   "source": [
    "# Training the Classifier"
   ]
  },
  {
   "cell_type": "code",
   "execution_count": 48,
   "metadata": {},
   "outputs": [],
   "source": [
    "import pandas as pd\n",
    "import numpy as np\n",
    "from sklearn.model_selection import train_test_split\n",
    "from sklearn.preprocessing import StandardScaler, LabelEncoder\n",
    "from ast import literal_eval  # Convert MFCC strings to lists"
   ]
  },
  {
   "cell_type": "code",
   "execution_count": 77,
   "metadata": {},
   "outputs": [
    {
     "name": "stdout",
     "output_type": "stream",
     "text": [
      "   index                                               text  \\\n",
      "0  10500              austrian five two hotel juliett praha   \n",
      "1  10425                  austrian seven two nine thank you   \n",
      "2    882                            roger standby for climb   \n",
      "3  10309  csa three charlie tango runway three one clear...   \n",
      "4  11616  sky travel one zero one zero confirm ready for...   \n",
      "\n",
      "                    audio_path  word_count label     f0_mean     f0_std  \\\n",
      "0  audio_files/audio_10500.wav           6   imp  357.180036  19.516794   \n",
      "1  audio_files/audio_10425.wav           6    nq  545.996867  55.690541   \n",
      "2    audio_files/audio_882.wav           4    nq    0.000000   0.000000   \n",
      "3  audio_files/audio_10309.wav          17    nq  611.583890  58.230917   \n",
      "4  audio_files/audio_11616.wav          19    yn  635.726079  75.972980   \n",
      "\n",
      "   f0_end_slope  energy_mean  energy_std  zcr_mean  \\\n",
      "0     -0.208062     0.011717    0.004587  0.065323   \n",
      "1     -6.876172     0.006917    0.004128  0.082935   \n",
      "2      0.000000     0.012128    0.011864  0.058681   \n",
      "3     -0.445379     0.027040    0.010321  0.073520   \n",
      "4     -0.058992     0.024719    0.021063  0.083496   \n",
      "\n",
      "                                          mfcc_means  \n",
      "0  [-604.5817519318547, 237.58284268308938, 119.5...  \n",
      "1  [-629.998098913449, 205.31237997407098, 94.746...  \n",
      "2  [-592.5808682676842, 180.6328658748468, 85.141...  \n",
      "3  [-516.0083593670561, 189.2773189905911, 107.19...  \n",
      "4  [-514.1987269382487, 186.77010546107826, 95.73...  \n"
     ]
    }
   ],
   "source": [
    "data = pd.read_csv('N_1000_filtered_train_data_with_features.csv')\n",
    "print(data.head())"
   ]
  },
  {
   "cell_type": "code",
   "execution_count": 78,
   "metadata": {},
   "outputs": [
    {
     "name": "stdout",
     "output_type": "stream",
     "text": [
      "index             int64\n",
      "text             object\n",
      "audio_path       object\n",
      "word_count        int64\n",
      "label            object\n",
      "f0_mean         float64\n",
      "f0_std          float64\n",
      "f0_end_slope    float64\n",
      "energy_mean     float64\n",
      "energy_std      float64\n",
      "zcr_mean        float64\n",
      "0               float64\n",
      "1               float64\n",
      "2               float64\n",
      "3               float64\n",
      "4               float64\n",
      "5               float64\n",
      "6               float64\n",
      "7               float64\n",
      "8               float64\n",
      "9               float64\n",
      "10              float64\n",
      "11              float64\n",
      "12              float64\n",
      "dtype: object\n"
     ]
    }
   ],
   "source": [
    "mfcc_df = pd.DataFrame(data['mfcc_means'].apply(literal_eval).tolist())\n",
    "#print(mfcc_df.head())\n",
    "\n",
    "data = data.drop(columns=['mfcc_means'])\n",
    "data = pd.concat([data, mfcc_df], axis=1)\n",
    "#print(data.head())\n",
    "print(data.dtypes)"
   ]
  },
  {
   "cell_type": "code",
   "execution_count": 83,
   "metadata": {},
   "outputs": [],
   "source": [
    "y = data['label']\n",
    "X = data.drop(columns=['label', 'audio_path', 'index', 'text', 'word_count'])\n",
    "X.columns = X.columns.astype(str)\n",
    "\n"
   ]
  },
  {
   "cell_type": "code",
   "execution_count": 84,
   "metadata": {},
   "outputs": [
    {
     "name": "stdout",
     "output_type": "stream",
     "text": [
      "f0_mean         float64\n",
      "f0_std          float64\n",
      "f0_end_slope    float64\n",
      "energy_mean     float64\n",
      "energy_std      float64\n",
      "zcr_mean        float64\n",
      "0               float64\n",
      "1               float64\n",
      "2               float64\n",
      "3               float64\n",
      "4               float64\n",
      "5               float64\n",
      "6               float64\n",
      "7               float64\n",
      "8               float64\n",
      "9               float64\n",
      "10              float64\n",
      "11              float64\n",
      "12              float64\n",
      "dtype: object\n"
     ]
    }
   ],
   "source": [
    "label_map = {'yn' : 0, 'wh' : 1, 'imp' : 2, 'nq' : 3}\n",
    "print(X.dtypes)"
   ]
  },
  {
   "cell_type": "code",
   "execution_count": 85,
   "metadata": {},
   "outputs": [],
   "source": [
    "scaler = StandardScaler()\n",
    "X_scaled = scaler.fit_transform(X)\n"
   ]
  },
  {
   "cell_type": "code",
   "execution_count": 86,
   "metadata": {},
   "outputs": [
    {
     "name": "stdout",
     "output_type": "stream",
     "text": [
      "[[-0.56945023 -0.65459728  0.01657074 ... -0.3788723  -0.44158753\n",
      "  -0.64512379]\n",
      " [-0.07853423 -0.34731288 -0.57936912 ...  0.4803876   0.3008291\n",
      "   0.12139316]\n",
      " [-1.49810363 -0.82038619  0.03516555 ...  0.49970956 -0.11651773\n",
      "  -0.41569257]\n",
      " ...\n",
      " [-0.68864157 -0.41874827 -0.12255641 ... -1.1690069  -1.55162107\n",
      "  -1.8350593 ]\n",
      " [-0.69286086 -0.54957577  0.01654346 ... -0.84869367 -0.9934465\n",
      "  -1.27910764]\n",
      " [-0.57460422 -0.3660167  -0.06813018 ... -0.310578   -0.52823244\n",
      "  -0.54440282]]\n"
     ]
    }
   ],
   "source": [
    "print(X_scaled)"
   ]
  },
  {
   "cell_type": "code",
   "execution_count": 88,
   "metadata": {},
   "outputs": [],
   "source": [
    "# Train-test split\n",
    "X_train, X_test, y_train, y_test = train_test_split(X_scaled, y, test_size=0.2, random_state=23)"
   ]
  },
  {
   "cell_type": "code",
   "execution_count": 90,
   "metadata": {},
   "outputs": [
    {
     "name": "stdout",
     "output_type": "stream",
     "text": [
      "SVM Accuracy: 0.5380710659898477\n"
     ]
    }
   ],
   "source": [
    "from sklearn.svm import SVC\n",
    "from sklearn.metrics import accuracy_score, classification_report\n",
    "\n",
    "svm_clf = SVC(kernel='rbf', C=1.0)\n",
    "svm_clf.fit(X_train, y_train)\n",
    "y_pred_svm = svm_clf.predict(X_test)\n",
    "\n",
    "print(\"SVM Accuracy:\", accuracy_score(y_test, y_pred_svm))\n"
   ]
  },
  {
   "cell_type": "code",
   "execution_count": null,
   "metadata": {},
   "outputs": [],
   "source": []
  }
 ],
 "metadata": {
  "language_info": {
   "name": "python"
  }
 },
 "nbformat": 4,
 "nbformat_minor": 2
}
