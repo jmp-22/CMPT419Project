{
 "cells": [
  {
   "cell_type": "markdown",
   "metadata": {},
   "source": [
    "# Annotation Workflow\n",
    "\n",
    "First, start by running the annotation GUI app. It requires that the audio clips are located in a directory called \"audio_files\" in your project folder. It will also require you to specify a path to your filtered training data."
   ]
  },
  {
   "cell_type": "markdown",
   "metadata": {},
   "source": [
    "# Run Annotation App\n",
    "\n",
    "Define input data filepath and starting index on command line\n",
    "\n",
    "Once exited, the app will create a CSV containing the annotation for each audio file to be used in a merge operation with the original dataset."
   ]
  },
  {
   "cell_type": "code",
   "execution_count": 6,
   "metadata": {},
   "outputs": [
    {
     "name": "stdout",
     "output_type": "stream",
     "text": [
      "2025-04-11 14:38:22.621 Python[36556:112625712] +[IMKClient subclass]: chose IMKClient_Modern\n",
      "2025-04-11 14:38:22.621 Python[36556:112625712] +[IMKInputSession subclass]: chose IMKInputSession_Modern\n"
     ]
    }
   ],
   "source": [
    "!python3 annotate_app.py N_1000_filtered_train_data.csv 0"
   ]
  },
  {
   "cell_type": "code",
   "execution_count": 4,
   "metadata": {},
   "outputs": [],
   "source": [
    "import pandas as pd\n",
    "import numpy as np"
   ]
  },
  {
   "cell_type": "markdown",
   "metadata": {},
   "source": [
    "# Join Training Set Data and Annotations"
   ]
  },
  {
   "cell_type": "markdown",
   "metadata": {},
   "source": [
    "Merge the new annotations with the existing database, new annotations are under the \"question type\" column"
   ]
  },
  {
   "cell_type": "code",
   "execution_count": 7,
   "metadata": {},
   "outputs": [
    {
     "name": "stdout",
     "output_type": "stream",
     "text": [
      "    index                                               text  \\\n",
      "0   10500              austrian five two hotel juliett praha   \n",
      "1   10425                  austrian seven two nine thank you   \n",
      "2     882                            roger standby for climb   \n",
      "3   10309  csa three charlie tango runway three one clear...   \n",
      "4   11616  sky travel one zero one zero confirm ready for...   \n",
      "5   10676  initial one zero zero sierra papa sierra thank...   \n",
      "6    9401  warsaw good morning lufthansa seven seven nine...   \n",
      "7    1895                   thank you good bye five nine six   \n",
      "8    3296  twojet four one six proceed to odnem and conta...   \n",
      "9    3470  lufthansa seven five two request flight level ...   \n",
      "10   4484  csa three foxtrot contact ruzyne ground one tw...   \n",
      "11   2061  i just confirm what cleared flight level easy ...   \n",
      "12  11586  and report ready for departure once your re cl...   \n",
      "13   8831                              chanex one three nine   \n",
      "14   6193                                       two one zero   \n",
      "\n",
      "                     audio_path  word_count  potential_question  \\\n",
      "0   audio_files/audio_10500.wav           6               False   \n",
      "1   audio_files/audio_10425.wav           6               False   \n",
      "2     audio_files/audio_882.wav           4               False   \n",
      "3   audio_files/audio_10309.wav          17               False   \n",
      "4   audio_files/audio_11616.wav          19                True   \n",
      "5   audio_files/audio_10676.wav           9               False   \n",
      "6    audio_files/audio_9401.wav          11               False   \n",
      "7    audio_files/audio_1895.wav           7               False   \n",
      "8    audio_files/audio_3296.wav          19               False   \n",
      "9    audio_files/audio_3470.wav          10                True   \n",
      "10   audio_files/audio_4484.wav          11               False   \n",
      "11   audio_files/audio_2061.wav          11                True   \n",
      "12  audio_files/audio_11586.wav          14               False   \n",
      "13   audio_files/audio_8831.wav           4               False   \n",
      "14   audio_files/audio_6193.wav           3               False   \n",
      "\n",
      "    potential_statement  label question_type  \n",
      "0                  True    NaN           imp  \n",
      "1                  True    NaN            nq  \n",
      "2                  True    NaN            nq  \n",
      "3                  True    NaN            nq  \n",
      "4                 False    NaN            yn  \n",
      "5                  True    NaN            nq  \n",
      "6                  True    NaN           imp  \n",
      "7                  True    NaN            nq  \n",
      "8                  True    NaN            nq  \n",
      "9                 False    NaN           imp  \n",
      "10                 True    NaN            nq  \n",
      "11                False    NaN            yn  \n",
      "12                 True    NaN            nq  \n",
      "13                 True    NaN           imp  \n",
      "14                 True    NaN            nq  \n"
     ]
    }
   ],
   "source": [
    "# File path to the dataset\n",
    "data_path = \"N_1000_filtered_train_data.csv\"\n",
    "annotations_path = \"atc_audio_annotations.csv\"\n",
    "\n",
    "\n",
    "# Load original dataset  \n",
    "df_data = pd.read_csv(data_path)  \n",
    "\n",
    "# Load annotations (assuming it has 'audio_path' and 'new_text' columns)  \n",
    "df_annotations = pd.read_csv(annotations_path)  \n",
    "\n",
    "# Merge while keeping all original rows  \n",
    "df_merged = df_data.merge(df_annotations, on=\"audio_path\", how=\"left\")  \n",
    " \n",
    "\n",
    "print(df_merged.head(15))"
   ]
  },
  {
   "cell_type": "markdown",
   "metadata": {},
   "source": [
    "If you are satisfied with the new labels, update label column and drop \"question type\""
   ]
  },
  {
   "cell_type": "code",
   "execution_count": 8,
   "metadata": {},
   "outputs": [
    {
     "name": "stdout",
     "output_type": "stream",
     "text": [
      "    index                                               text  \\\n",
      "0   10500              austrian five two hotel juliett praha   \n",
      "1   10425                  austrian seven two nine thank you   \n",
      "2     882                            roger standby for climb   \n",
      "3   10309  csa three charlie tango runway three one clear...   \n",
      "4   11616  sky travel one zero one zero confirm ready for...   \n",
      "5   10676  initial one zero zero sierra papa sierra thank...   \n",
      "6    9401  warsaw good morning lufthansa seven seven nine...   \n",
      "7    1895                   thank you good bye five nine six   \n",
      "8    3296  twojet four one six proceed to odnem and conta...   \n",
      "9    3470  lufthansa seven five two request flight level ...   \n",
      "10   4484  csa three foxtrot contact ruzyne ground one tw...   \n",
      "11   2061  i just confirm what cleared flight level easy ...   \n",
      "12  11586  and report ready for departure once your re cl...   \n",
      "13   8831                              chanex one three nine   \n",
      "14   6193                                       two one zero   \n",
      "\n",
      "                     audio_path  word_count  potential_question  \\\n",
      "0   audio_files/audio_10500.wav           6               False   \n",
      "1   audio_files/audio_10425.wav           6               False   \n",
      "2     audio_files/audio_882.wav           4               False   \n",
      "3   audio_files/audio_10309.wav          17               False   \n",
      "4   audio_files/audio_11616.wav          19                True   \n",
      "5   audio_files/audio_10676.wav           9               False   \n",
      "6    audio_files/audio_9401.wav          11               False   \n",
      "7    audio_files/audio_1895.wav           7               False   \n",
      "8    audio_files/audio_3296.wav          19               False   \n",
      "9    audio_files/audio_3470.wav          10                True   \n",
      "10   audio_files/audio_4484.wav          11               False   \n",
      "11   audio_files/audio_2061.wav          11                True   \n",
      "12  audio_files/audio_11586.wav          14               False   \n",
      "13   audio_files/audio_8831.wav           4               False   \n",
      "14   audio_files/audio_6193.wav           3               False   \n",
      "\n",
      "    potential_statement label  \n",
      "0                  True   imp  \n",
      "1                  True    nq  \n",
      "2                  True    nq  \n",
      "3                  True    nq  \n",
      "4                 False    yn  \n",
      "5                  True    nq  \n",
      "6                  True   imp  \n",
      "7                  True    nq  \n",
      "8                  True    nq  \n",
      "9                 False   imp  \n",
      "10                 True    nq  \n",
      "11                False    yn  \n",
      "12                 True    nq  \n",
      "13                 True   imp  \n",
      "14                 True    nq  \n"
     ]
    }
   ],
   "source": [
    "df_merged['label'] = df_merged['question_type']\n",
    "df_merged.drop(['question_type'], axis=1, inplace=True)\n",
    "\n",
    "print(df_merged.head(15))"
   ]
  },
  {
   "cell_type": "code",
   "execution_count": 9,
   "metadata": {},
   "outputs": [],
   "source": [
    "# Save to new file\n",
    "# Define output filepath (default is to overwrite original)\n",
    "\n",
    "output_path = data_path\n",
    "\n",
    "df_merged.to_csv(output_path, index=False)"
   ]
  },
  {
   "cell_type": "code",
   "execution_count": null,
   "metadata": {},
   "outputs": [],
   "source": []
  }
 ],
 "metadata": {
  "kernelspec": {
   "display_name": "env",
   "language": "python",
   "name": "python3"
  },
  "language_info": {
   "codemirror_mode": {
    "name": "ipython",
    "version": 3
   },
   "file_extension": ".py",
   "mimetype": "text/x-python",
   "name": "python",
   "nbconvert_exporter": "python",
   "pygments_lexer": "ipython3",
   "version": "3.13.1"
  }
 },
 "nbformat": 4,
 "nbformat_minor": 2
}
