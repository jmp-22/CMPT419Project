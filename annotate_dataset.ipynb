{
 "cells": [
  {
   "cell_type": "markdown",
   "metadata": {},
   "source": [
    "# Annotation Workflow\n",
    "\n",
    "First, start by running the annotation GUI app. It requires that the audio clips are located in a directory called \"audio_files\" in your project folder. It will also require you to specify a path to your filtered training data."
   ]
  },
  {
   "cell_type": "markdown",
   "metadata": {},
   "source": [
    "# Run Annotation App\n",
    "\n",
    "Define input data filepath and starting index on command line\n",
    "\n",
    "Once exited, the app will create a CSV containing the annotation for each audio file to be used in a merge operation with the original dataset."
   ]
  },
  {
   "cell_type": "code",
   "execution_count": null,
   "metadata": {},
   "outputs": [],
   "source": [
    "!python3 annotate_app.py N_1000_filtered_train_data.csv 0"
   ]
  },
  {
   "cell_type": "code",
   "execution_count": null,
   "metadata": {},
   "outputs": [],
   "source": [
    "import pandas as pd\n",
    "import numpy as np"
   ]
  },
  {
   "cell_type": "markdown",
   "metadata": {},
   "source": [
    "# Join Training Set Data and Annotations"
   ]
  },
  {
   "cell_type": "markdown",
   "metadata": {},
   "source": [
    "Merge the new annotations with the existing database, new annotations are under the \"question type\" column"
   ]
  },
  {
   "cell_type": "code",
   "execution_count": null,
   "metadata": {},
   "outputs": [],
   "source": [
    "# File path to the dataset\n",
    "data_path = \"N_1000_filtered_train_data.csv\"\n",
    "annotations_path = \"atc_audio_annotations.csv\"\n",
    "\n",
    "\n",
    "# Load original dataset  \n",
    "df_data = pd.read_csv(data_path)  \n",
    "\n",
    "# Load annotations (assuming it has 'audio_path' and 'new_text' columns)  \n",
    "df_annotations = pd.read_csv(annotations_path)  \n",
    "\n",
    "# Merge while keeping all original rows  \n",
    "df_merged = df_data.merge(df_annotations, on=\"audio_path\", how=\"left\")  \n",
    " \n",
    "\n",
    "print(df_merged.head(15))"
   ]
  },
  {
   "cell_type": "markdown",
   "metadata": {},
   "source": [
    "If you are satisfied with the new labels, update label column and drop \"question type\""
   ]
  },
  {
   "cell_type": "code",
   "execution_count": null,
   "metadata": {},
   "outputs": [],
   "source": [
    "df_merged['label'] = df_merged['question_type']\n",
    "df_merged.drop(['question_type'], axis=1, inplace=True)\n",
    "\n",
    "print(df_merged.head(15))"
   ]
  },
  {
   "cell_type": "code",
   "execution_count": null,
   "metadata": {},
   "outputs": [],
   "source": [
    "# Save to new file\n",
    "# Define output filepath (default is to overwrite original)\n",
    "\n",
    "output_path = data_path\n",
    "\n",
    "df_merged.to_csv(output_path, index=False)"
   ]
  },
  {
   "cell_type": "code",
   "execution_count": null,
   "metadata": {},
   "outputs": [],
   "source": []
  }
 ],
 "metadata": {
  "kernelspec": {
   "display_name": "env",
   "language": "python",
   "name": "python3"
  },
  "language_info": {
   "codemirror_mode": {
    "name": "ipython",
    "version": 3
   },
   "file_extension": ".py",
   "mimetype": "text/x-python",
   "name": "python",
   "nbconvert_exporter": "python",
   "pygments_lexer": "ipython3",
   "version": "3.13.1"
  }
 },
 "nbformat": 4,
 "nbformat_minor": 2
}
